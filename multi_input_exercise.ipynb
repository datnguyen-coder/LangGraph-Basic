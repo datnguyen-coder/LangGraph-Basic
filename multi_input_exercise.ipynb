{
 "cells": [
  {
   "cell_type": "code",
   "execution_count": 24,
   "id": "3a79f9bf",
   "metadata": {},
   "outputs": [],
   "source": [
    "from typing import TypedDict, List\n",
    "from langgraph.graph import StateGraph\n",
    "import math"
   ]
  },
  {
   "cell_type": "code",
   "execution_count": 25,
   "id": "02338918",
   "metadata": {},
   "outputs": [],
   "source": [
    "class AgentState(TypedDict):\n",
    "    name : str\n",
    "    values : List[int]\n",
    "    operation : str\n",
    "    result : str"
   ]
  },
  {
   "cell_type": "code",
   "execution_count": 32,
   "id": "e7043cfe",
   "metadata": {},
   "outputs": [],
   "source": [
    "def operation(state: AgentState) -> AgentState:\n",
    "    \"\"\"This function decides if you will add the elements or multiply the elements.\"\"\"\n",
    "    \n",
    "    if state['operation'] == \"+\":\n",
    "        state['result'] = f\"Hi {state['name']}, your answer is {sum(state['values'])}\"\n",
    "    elif state['operation'] == \"*\":\n",
    "        state['result'] = f\"Hi {state['name']}, your answer is {math.prod(state['values'])}\"\n",
    "    else:\n",
    "        raise \"Invalid operation\"\n",
    "    return state"
   ]
  },
  {
   "cell_type": "code",
   "execution_count": 33,
   "id": "0932d114",
   "metadata": {},
   "outputs": [],
   "source": [
    "graph = StateGraph(AgentState)\n",
    "\n",
    "graph.add_node(\"worker\", operation)\n",
    "\n",
    "graph.set_entry_point(\"worker\")\n",
    "graph.set_finish_point(\"worker\")\n",
    "\n",
    "app = graph.compile()"
   ]
  },
  {
   "cell_type": "code",
   "execution_count": 34,
   "id": "3d46e609",
   "metadata": {},
   "outputs": [
    {
     "data": {
      "image/png": "[encoded data removed]",
      "text/plain": [
       "<IPython.core.display.Image object>"
      ]
     },
     "metadata": {},
     "output_type": "display_data"
    }
   ],
   "source": [
    "from IPython.display import Image, display\n",
    "display(Image(app.get_graph().draw_mermaid_png()))"
   ]
  },
  {
   "cell_type": "code",
   "execution_count": 37,
   "id": "b6f5c894",
   "metadata": {},
   "outputs": [],
   "source": [
    "answer = app.invoke({'name': \"Jack\", 'values': [1,2,3,4], 'operation': \"*\"})"
   ]
  },
  {
   "cell_type": "code",
   "execution_count": 39,
   "id": "2c7c3839",
   "metadata": {},
   "outputs": [
    {
     "name": "stdout",
     "output_type": "stream",
     "text": [
      "{'name': 'Jack', 'values': [1, 2, 3, 4], 'operation': '*', 'result': 'Hi Jack, your answer is 24'}\n"
     ]
    }
   ],
   "source": [
    "print(answer)"
   ]
  },
  {
   "cell_type": "code",
   "execution_count": 38,
   "id": "655446f7",
   "metadata": {},
   "outputs": [
    {
     "name": "stdout",
     "output_type": "stream",
     "text": [
      "Hi Jack, your answer is 24\n"
     ]
    }
   ],
   "source": [
    "print(answer['result'])"
   ]
  }
 ],
 "metadata": {
  "kernelspec": {
   "display_name": "myenv",
   "language": "python",
   "name": "python3"
  },
  "language_info": {
   "codemirror_mode": {
    "name": "ipython",
    "version": 3
   },
   "file_extension": ".py",
   "mimetype": "text/x-python",
   "name": "python",
   "nbconvert_exporter": "python",
   "pygments_lexer": "ipython3",
   "version": "3.12.7"
  }
 },
 "nbformat": 4,
 "nbformat_minor": 5
}
